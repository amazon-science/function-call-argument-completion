{
 "cells": [
  {
   "cell_type": "code",
   "execution_count": null,
   "id": "bedda36d",
   "metadata": {},
   "outputs": [
    {
     "name": "stderr",
     "output_type": "stream",
     "text": [
      "/home/ubuntu/anaconda3/lib/python3.9/site-packages/fuzzywuzzy/fuzz.py:11: UserWarning: Using slow pure-python SequenceMatcher. Install python-Levenshtein to remove this warning\n",
      "  warnings.warn('Using slow pure-python SequenceMatcher. Install python-Levenshtein to remove this warning')\n"
     ]
    }
   ],
   "source": [
    "# Copyright Amazon.com, Inc. or its affiliates. All Rights Reserved.\n",
    "# SPDX-License-Identifier: Apache-2.0\n",
    "from evaluator.CodeBLEU import calc_code_bleu\n",
    "import numpy as np\n",
    "import os\n",
    "from evaluator.bleu import _bleu\n",
    "from utils import read_examples, check\n",
    "from fuzzywuzzy import fuzz\n",
    "%matplotlib inline\n",
    "import matplotlib.pyplot as plt\n",
    "from transformers import AutoTokenizer\n",
    "import ast\n",
    "import astor\n",
    "import numpy as np\n",
    "\n",
    "tokenizer = AutoTokenizer.from_pretrained(\"Salesforce/codet5-small\")\n",
    "loc = \"t5_full4_dist_imp\"\n",
    "eval_examples = read_examples(\"/home/ubuntu/callargs/pkl_data/test.pkl\", -1)\n",
    "\n",
    "wh = \"best-ppl\"\n",
    "a = f\"/home/ubuntu/results/{loc}/test_{wh}.output\"\n",
    "b = f\"/home/ubuntu/results/{loc}/test_{wh}.gold\"\n",
    "pred_nls = [x.strip() for x in open(a).readlines()]\n",
    "gold = [x.strip() for x in open(b).readlines()]  "
   ]
  },
  {
   "cell_type": "code",
   "execution_count": 2,
   "id": "aa3af189",
   "metadata": {},
   "outputs": [],
   "source": [
    "def sim_acc(pred_nls, gold, eval_examples):\n",
    "    accs = []\n",
    "    sims = []\n",
    "    for x, y, ex in zip(pred_nls, gold, eval_examples):\n",
    "        res = check(x.strip()) == check(y.strip())\n",
    "        sim = fuzz.ratio(check(x.strip()), check(y.strip()))\n",
    "        accs.append(res)\n",
    "        sims.append(sim)\n",
    "    return np.array(accs), np.array(sims)\n",
    "accs, sims = sim_acc(pred_nls, gold, eval_examples)\n"
   ]
  },
  {
   "cell_type": "code",
   "execution_count": 3,
   "id": "dbb0336a",
   "metadata": {},
   "outputs": [],
   "source": [
    "import pickle\n",
    "path = \"/home/ubuntu/callargs/pkl_data/\"\n",
    "dic = {}\n",
    "with open(f\"{path}/train.pkl\", \"rb\") as f:\n",
    "    dic[\"train\"] = pickle.load(f)\n",
    "with open(f\"{path}/dev.pkl\", \"rb\") as f:\n",
    "    dic[\"dev\"] = pickle.load(f)\n",
    "with open(f\"{path}/test.pkl\", \"rb\") as f:\n",
    "    dic[\"test\"] = pickle.load(f)"
   ]
  },
  {
   "cell_type": "code",
   "execution_count": 4,
   "id": "21eea7bd",
   "metadata": {},
   "outputs": [
    {
     "name": "stdout",
     "output_type": "stream",
     "text": [
      "0.5531017622491596 80.08733829072018\n",
      "0.5777936233065091 81.71184679637364\n"
     ]
    }
   ],
   "source": [
    "def lastn(text, num=-10):\n",
    "    lis = text.split(\"\\n\")[num:]\n",
    "    return '\\n'.join(lis)\n",
    "\n",
    "def sim(a, b):\n",
    "    x = set(a.split())\n",
    "    y = set(b.split())\n",
    "    return len(x&y)/len(x)\n",
    "\n",
    "threshold = 0.5\n",
    "nwa = np.zeros(len(accs))\n",
    "nws = np.zeros(len(sims))\n",
    "mask = np.zeros(len(accs))\n",
    "for i, x in enumerate(dic[\"test\"]):\n",
    "    if len(x[\"usages\"])==0: continue\n",
    "    if sim(lastn(x[\"context\"][0]), lastn(x[\"usages\"][0][0]))>threshold:\n",
    "        mask[i]=1\n",
    "        a = check(x[\"target\"].strip())\n",
    "        b = check(x[\"usages\"][0][-1].strip())\n",
    "        nwa[i] = a==b\n",
    "        nws[i] =fuzz.ratio(a,b)\n",
    "print(np.mean(accs), np.mean(sims))\n",
    "print(np.mean(accs*(1-mask)+mask*nwa), np.mean(sims*(1-mask)+mask*nws))"
   ]
  },
  {
   "cell_type": "code",
   "execution_count": 5,
   "id": "04264178",
   "metadata": {},
   "outputs": [
    {
     "name": "stdout",
     "output_type": "stream",
     "text": [
      "0.6226367532140157 84.19527770775565\n"
     ]
    }
   ],
   "source": [
    "parta = []\n",
    "parts = []\n",
    "for i, x in enumerate(dic[\"test\"]):\n",
    "    if len(x[\"usages\"])==0: \n",
    "        parta.append(accs[i])\n",
    "        parts.append(sims[i])\n",
    "print(np.mean(parta), np.mean(parts))"
   ]
  },
  {
   "cell_type": "code",
   "execution_count": null,
   "id": "8143deb4",
   "metadata": {},
   "outputs": [],
   "source": []
  }
 ],
 "metadata": {
  "kernelspec": {
   "display_name": "Python 3 (ipykernel)",
   "language": "python",
   "name": "python3"
  },
  "language_info": {
   "codemirror_mode": {
    "name": "ipython",
    "version": 3
   },
   "file_extension": ".py",
   "mimetype": "text/x-python",
   "name": "python",
   "nbconvert_exporter": "python",
   "pygments_lexer": "ipython3",
   "version": "3.9.12"
  }
 },
 "nbformat": 4,
 "nbformat_minor": 5
}
