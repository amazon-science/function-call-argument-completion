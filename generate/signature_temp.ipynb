{
 "cells": [
  {
   "cell_type": "code",
   "execution_count": null,
   "id": "e4161400",
   "metadata": {},
   "outputs": [],
   "source": [
    "# Copyright Amazon.com, Inc. or its affiliates. All Rights Reserved.\n",
    "# SPDX-License-Identifier: Apache-2.0\n",
    "import pickle\n",
    "import json\n",
    "path = \"/home/ubuntu/mydata/pkl_data/distributable/level4\"\n",
    "dic = {}\n",
    "with open(f\"{path}/train.pkl\", \"rb\") as f:\n",
    "    dic[\"train\"] = pickle.load(f)\n",
    "with open(f\"{path}/dev.pkl\", \"rb\") as f:\n",
    "    dic[\"dev\"] = pickle.load(f)\n",
    "with open(f\"{path}/test.pkl\", \"rb\") as f:\n",
    "    dic[\"test\"] = pickle.load(f)\n",
    "src = pickle.load(open(\"/home/ubuntu/mydata/src_env.pkl\", \"rb\"))\n",
    "src = {x:y for x,y in src}"
   ]
  },
  {
   "cell_type": "code",
   "execution_count": null,
   "id": "4c256d1a",
   "metadata": {},
   "outputs": [],
   "source": [
    "def get_name(folder):\n",
    "    prefix = \"/home/ubuntu/mydata/virtual/env_\"\n",
    "    assert folder.startswith(prefix)\n",
    "    return folder[len(prefix):].split(\"/\")[0]\n",
    "\n",
    "tot = {}\n",
    "for k, lis in dic.items():\n",
    "    for i, x in enumerate(lis):\n",
    "        folder = x[\"folder\"]\n",
    "        pj = get_name(folder)\n",
    "        assert pj in src\n",
    "        assert src[pj] == folder\n",
    "        if pj not in tot:\n",
    "            tot[pj] = []\n",
    "        item = {}\n",
    "        item[\"name\"] = x[\"name\"]\n",
    "        item[\"path\"] = x[\"path\"]\n",
    "        item[\"position\"] = x[\"position\"]\n",
    "        tot[pj].append(item)\n",
    "print(len(tot))"
   ]
  },
  {
   "cell_type": "code",
   "execution_count": null,
   "id": "5100307a",
   "metadata": {},
   "outputs": [],
   "source": [
    "non_exist = []\n",
    "for k in tot:\n",
    "    try:\n",
    "        with open(f'/home/ubuntu/mydata/signatureHelp/{k}_signature.json') as f:\n",
    "            res = json.load(f)\n",
    "    except Exception as e:\n",
    "        print(k)\n",
    "        with open(f'/home/ubuntu/mydata/signatureHelp/{k}.json', \"w\") as f:\n",
    "            tmp = {}\n",
    "            tmp[\"lis\"] = tot[k]\n",
    "            tmp[\"folder\"] = src[k]\n",
    "            tmp[\"extra\"] = [f'/home/ubuntu/mydata/virtual/env_{k}/lib/python3.9/site-packages/']\n",
    "            out = json.dumps(tmp, indent=2, separators=(\",\", \":\"))\n",
    "            f.write(out)\n",
    "        non_exist.append(k)\n",
    "\n",
    "    "
   ]
  },
  {
   "cell_type": "code",
   "execution_count": null,
   "id": "1c841646",
   "metadata": {},
   "outputs": [],
   "source": [
    "print(len(non_exist))\n",
    "with open(\"/home/ubuntu/mydata/pkl_data/non_exist.pkl\", \"wb\") as f:\n",
    "    pickle.dump(non_exist, f)"
   ]
  },
  {
   "cell_type": "code",
   "execution_count": null,
   "id": "0d05e8a0",
   "metadata": {},
   "outputs": [],
   "source": [
    "import os\n",
    "s = 0\n",
    "for k in tot:\n",
    "    if os.path.exists(f'/home/ubuntu/mydata/signatureHelp/{k}_signature.json'):\n",
    "        s+=1\n",
    "    else:\n",
    "        print(k, len(tot[k]))\n",
    "print(s)"
   ]
  },
  {
   "cell_type": "code",
   "execution_count": null,
   "id": "e291f854",
   "metadata": {},
   "outputs": [],
   "source": [
    "# [Important]\n",
    "# After you have finished `python main_signature.py`, you can begin to run this cell\n",
    "\n",
    "overall = {}\n",
    "for k, lis in dic.items():\n",
    "    for i, x in enumerate(lis):\n",
    "        overall[(x[\"name\"], x[\"path\"], x[\"position\"][\"line\"], x[\"position\"][\"character\"])] = (k,i)\n",
    "for k in tot:\n",
    "    try:\n",
    "        with open(f'/home/ubuntu/mydata/signatureHelp/{k}_signature.json') as f:\n",
    "            res = json.load(f)\n",
    "    except:\n",
    "        continue\n",
    "    for x in res:\n",
    "        key = (x[\"name\"], x[\"path\"], x[\"position\"][\"line\"], x[\"position\"][\"character\"])\n",
    "        if key not in overall: continue\n",
    "        a, b = overall[key]\n",
    "        dic[a][b][\"signature\"] = x[\"signature\"]"
   ]
  },
  {
   "cell_type": "code",
   "execution_count": null,
   "id": "0f033c2e",
   "metadata": {},
   "outputs": [],
   "source": [
    "for k, lis in dic.items():\n",
    "    s = 0\n",
    "    for i, x in enumerate(lis):\n",
    "        if x.get(\"signature\") is None:\n",
    "            assert False"
   ]
  },
  {
   "cell_type": "code",
   "execution_count": null,
   "id": "1fcda948",
   "metadata": {},
   "outputs": [],
   "source": [
    "print(dic[\"train\"][100])"
   ]
  },
  {
   "cell_type": "code",
   "execution_count": null,
   "id": "0427669f",
   "metadata": {},
   "outputs": [],
   "source": [
    "for k, lis in dic.items():\n",
    "    nw_lis = [x for x in lis if len(x[\"signature\"])!=0]\n",
    "    print(len(nw_lis), len(lis))\n",
    "    with open(f\"{path}_inter/{k}.pkl\", \"wb\") as f:\n",
    "        pickle.dump(nw_lis, f)"
   ]
  },
  {
   "cell_type": "code",
   "execution_count": null,
   "id": "fd228218",
   "metadata": {},
   "outputs": [],
   "source": []
  }
 ],
 "metadata": {
  "kernelspec": {
   "display_name": "Python 3 (ipykernel)",
   "language": "python",
   "name": "python3"
  },
  "language_info": {
   "codemirror_mode": {
    "name": "ipython",
    "version": 3
   },
   "file_extension": ".py",
   "mimetype": "text/x-python",
   "name": "python",
   "nbconvert_exporter": "python",
   "pygments_lexer": "ipython3",
   "version": "3.11.3"
  }
 },
 "nbformat": 4,
 "nbformat_minor": 5
}
